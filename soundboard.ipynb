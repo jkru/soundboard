{
 "cells": [
  {
   "cell_type": "code",
   "execution_count": 1,
   "id": "7e570dbe",
   "metadata": {
    "jupyter": {
     "source_hidden": true
    }
   },
   "outputs": [],
   "source": [
    "# /// script\n",
    "# requires-python = \">=3.13\"\n",
    "# dependencies = [\n",
    "#     \"anywidget\",\n",
    "# ]\n",
    "# ///"
   ]
  },
  {
   "cell_type": "code",
   "execution_count": 2,
   "id": "e0bc7f2c-cdc2-470e-ac4a-4b008943f720",
   "metadata": {},
   "outputs": [
    {
     "data": {
      "application/vnd.jupyter.widget-view+json": {
       "model_id": "c16d428d50004e6f95de8f0017a260ec",
       "version_major": 2,
       "version_minor": 0
      },
      "text/plain": [
       "Box(children=(HTML(value='<img src=\"data:image/png;base64,iVBORw0KGgoAAAANSUhEUgAAAuAAAALgCAYAAADV3sIJAAAAAXNS…"
      ]
     },
     "execution_count": 2,
     "metadata": {},
     "output_type": "execute_result"
    }
   ],
   "source": [
    "import ipywidgets as widgets\n",
    "from IPython.display import display, Audio, HTML\n",
    "import base64\n",
    "\n",
    "# Load the image as base64\n",
    "image_path = \"./cucumber.png\"  # Replace with your image\n",
    "with open(image_path, \"rb\") as f:\n",
    "    image_bytes = f.read()\n",
    "image_b64 = base64.b64encode(image_bytes).decode(\"utf-8\")\n",
    "image_html = f'<img src=\"data:image/png;base64,{image_b64}\" style=\"width:150px; height:auto;\">'\n",
    "\n",
    "# Create an HTML widget to display the image\n",
    "image_widget = widgets.HTML(value=image_html)\n",
    "\n",
    "# Create an invisible button of same size\n",
    "button = widgets.Button(description='', layout=widgets.Layout(width='150px', height='auto'))\n",
    "button.style.button_color = 'rgba(10,150,300,0.3)'  # Fully transparent\n",
    "\n",
    "# Create a box to overlay button on top of image\n",
    "image_button = widgets.Box([image_widget, button], layout=widgets.Layout(display='inline-flex', flex_flow='column', align_items='center'))\n",
    "\n",
    "\n",
    "\n",
    "image_button\n"
   ]
  },
  {
   "cell_type": "code",
   "execution_count": 3,
   "id": "9eea0254-d11a-4442-8b68-613a535b67ec",
   "metadata": {},
   "outputs": [],
   "source": [
    "# Define sound playback on click\n",
    "def play_sound(b):\n",
    "    display(Audio(\"./cucumber.wav\", autoplay=True))  # Replace with your sound file\n",
    "    \n",
    "def play_sound2(b):\n",
    "    display(HTML('''\n",
    "        <audio autoplay>\n",
    "            <source src=\"cucumber.wav\" type=\"audio/wav\">\n",
    "        </audio>\n",
    "    '''))"
   ]
  },
  {
   "cell_type": "code",
   "execution_count": 4,
   "id": "5f19e38f-e007-4ba8-8abd-9294f9cd3752",
   "metadata": {},
   "outputs": [
    {
     "data": {
      "text/html": [
       "\n",
       "<div>\n",
       "    <img src=\"cucumber.png\" id=\"soundButton\" style=\"cursor:pointer; width:100px;\">\n",
       "    <audio id=\"clickSound\">\n",
       "        <source src=\"cucumber.wav\" type=\"audio/wav\">\n",
       "    </audio>\n",
       "</div>\n",
       "\n",
       "<script>\n",
       "    document.getElementById(\"soundButton\").onclick = function() {\n",
       "        var sound = document.getElementById(\"clickSound\");\n",
       "        sound.play();\n",
       "    };\n",
       "</script>\n"
      ],
      "text/plain": [
       "<IPython.core.display.HTML object>"
      ]
     },
     "metadata": {},
     "output_type": "display_data"
    }
   ],
   "source": [
    "from IPython.display import display, HTML\n",
    "\n",
    "display(HTML(\"\"\"\n",
    "<div>\n",
    "    <img src=\"cucumber.png\" id=\"soundButton\" style=\"cursor:pointer; width:100px;\">\n",
    "    <audio id=\"clickSound\">\n",
    "        <source src=\"cucumber.wav\" type=\"audio/wav\">\n",
    "    </audio>\n",
    "</div>\n",
    "\n",
    "<script>\n",
    "    document.getElementById(\"soundButton\").onclick = function() {\n",
    "        var sound = document.getElementById(\"clickSound\");\n",
    "        sound.play();\n",
    "    };\n",
    "</script>\n",
    "\"\"\"))"
   ]
  },
  {
   "cell_type": "code",
   "execution_count": 5,
   "id": "34b23c04-7ad2-4079-bc4c-9d3d5f2f5834",
   "metadata": {},
   "outputs": [
    {
     "data": {
      "application/vnd.jupyter.widget-view+json": {
       "model_id": "7e49713c56f4429299595782837f8ce4",
       "version_major": 2,
       "version_minor": 0
      },
      "text/plain": [
       "VBox(children=(HBox(children=(Button(image=b'\\x89PNG\\r\\n\\x1a\\n\\x00\\x00\\x00\\rIHDR\\x00\\x00\\x02\\xe0\\x00\\x00\\x02\\x…"
      ]
     },
     "execution_count": 5,
     "metadata": {},
     "output_type": "execute_result"
    }
   ],
   "source": [
    "import anywidget\n",
    "import traitlets\n",
    "from pathlib import Path\n",
    "\n",
    "from ipywidgets import HBox,VBox\n",
    "\n",
    "class Button(anywidget.AnyWidget):\n",
    "    _esm = \"\"\"\n",
    "    function render({ model, el }) {\n",
    "        const imageBytes = new Uint8Array(model.get(\"image\").buffer);\n",
    "        const imageBlob = new Blob([imageBytes], { type: \"image/png\" });\n",
    "        const imageUrl = URL.createObjectURL(imageBlob);\n",
    "        const img = document.createElement(\"img\");\n",
    "        img.src = imageUrl;\n",
    "        img.alt = \"Widget Image\";\n",
    "        img.style.maxWidth = \"150px\";\n",
    "        \n",
    "        const soundBytes = new Uint8Array(model.get(\"sound\").buffer);\n",
    "        const soundBlob = new Blob([soundBytes], { type: \"image/png\" });\n",
    "        const soundUrl = URL.createObjectURL(soundBlob);\n",
    "\n",
    "        const audio = document.createElement(\"audio\");\n",
    "        const source = document.createElement(\"source\");\n",
    "        source.src = soundUrl;\n",
    "        source.type = \"audio/wav\"\n",
    "        audio.appendChild(source);\n",
    "\n",
    "        const div = document.createElement(\"div\");\n",
    "        div.appendChild(img);\n",
    "        div.appendChild(audio);\n",
    "\n",
    "        img.addEventListener(\"click\", () => {\n",
    "            audio.play()\n",
    "        })\n",
    "\n",
    "        model.on(\"msg:custom\", () => {\n",
    "            audio.play()\n",
    "        })\n",
    "\n",
    "        el.appendChild(div);\n",
    "    }\n",
    "    export default { render };\n",
    "    \"\"\"\n",
    "    sound = traitlets.Bytes().tag(sync=True)\n",
    "    image = traitlets.Bytes().tag(sync=True)\n",
    "\n",
    "    def click(self):\n",
    "        self.send(\"click\")\n",
    "\n",
    "b1 = Button(\n",
    "    image=Path(\"cucumber.png\").read_bytes(),\n",
    "    sound=Path(\"cucumber.wav\").read_bytes(),\n",
    ")\n",
    "\n",
    "b2 = Button(\n",
    "    image=Path(\"cucumber.png\").read_bytes(),\n",
    "    sound=Path(\"cucumber.wav\").read_bytes(),\n",
    ")\n",
    "\n",
    "\n",
    "VBox([\n",
    "    HBox([b1, b2]),\n",
    "    HBox([b1, b2]),\n",
    "])"
   ]
  },
  {
   "cell_type": "code",
   "execution_count": 6,
   "id": "47c90062-8b9e-4000-a8b8-f07d10a0cee7",
   "metadata": {},
   "outputs": [],
   "source": [
    "b1.click()"
   ]
  },
  {
   "cell_type": "code",
   "execution_count": null,
   "id": "b4bed3e5-93d9-4389-90ba-207bddba4f90",
   "metadata": {},
   "outputs": [],
   "source": []
  }
 ],
 "metadata": {
  "kernelspec": {
   "display_name": "Python 3 (ipykernel)",
   "language": "python",
   "name": "python3"
  },
  "language_info": {
   "codemirror_mode": {
    "name": "ipython",
    "version": 3
   },
   "file_extension": ".py",
   "mimetype": "text/x-python",
   "name": "python",
   "nbconvert_exporter": "python",
   "pygments_lexer": "ipython3",
   "version": "3.13.3"
  }
 },
 "nbformat": 4,
 "nbformat_minor": 5
}
