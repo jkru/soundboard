{
 "cells": [
  {
   "cell_type": "code",
   "execution_count": 1,
   "id": "e0bc7f2c-cdc2-470e-ac4a-4b008943f720",
   "metadata": {},
   "outputs": [],
   "source": [
    "import ipywidgets as widgets\n",
    "from IPython.display import display, Audio, HTML\n",
    "import base64\n",
    "\n",
    "# Load the image as base64\n",
    "image_path = \"./Pickles.png\"  # Replace with your image\n",
    "with open(image_path, \"rb\") as f:\n",
    "    image_bytes = f.read()\n",
    "image_b64 = base64.b64encode(image_bytes).decode(\"utf-8\")\n",
    "image_html = f'<img src=\"data:image/png;base64,{image_b64}\" style=\"width:150px; height:auto;\">'\n",
    "\n",
    "# Create an HTML widget to display the image\n",
    "image_widget = widgets.HTML(value=image_html)\n",
    "\n",
    "# Create an invisible button of same size\n",
    "button = widgets.Button(description='', layout=widgets.Layout(width='150px', height='auto'))\n",
    "button.style.button_color = 'rgba(10,150,300,0.3)'  # Fully transparent\n",
    "\n",
    "# Create a box to overlay button on top of image\n",
    "image_button = widgets.Box([image_widget, button], layout=widgets.Layout(display='inline-flex', flex_flow='column', align_items='center'))\n",
    "\n",
    "\n",
    "\n",
    "\n"
   ]
  },
  {
   "cell_type": "code",
   "execution_count": 2,
   "id": "9eea0254-d11a-4442-8b68-613a535b67ec",
   "metadata": {},
   "outputs": [],
   "source": [
    "# Define sound playback on click\n",
    "def play_sound(b):\n",
    "    display(Audio(\"./cucumber.wav\", autoplay=True))  # Replace with your sound file\n",
    "def play_sound2(b):\n",
    "    display(HTML('''\n",
    "        <audio autoplay>\n",
    "            <source src=\"cucumber.wav\" type=\"audio/wav\">\n",
    "        </audio>\n",
    "    '''))"
   ]
  },
  {
   "cell_type": "code",
   "execution_count": 4,
   "id": "5f19e38f-e007-4ba8-8abd-9294f9cd3752",
   "metadata": {},
   "outputs": [
    {
     "data": {
      "text/html": [
       "\n",
       "<div>\n",
       "    <img src=\"cucumber.png\" id=\"soundButton\" style=\"cursor:pointer; width:100px;\">\n",
       "    <audio id=\"clickSound\">\n",
       "        <source src=\"cucumber.wav\" type=\"audio/wav\">\n",
       "    </audio>\n",
       "</div>\n",
       "\n",
       "<script>\n",
       "    document.getElementById(\"soundButton\").onclick = function() {\n",
       "        var sound = document.getElementById(\"clickSound\");\n",
       "        sound.play();\n",
       "    };\n",
       "</script>\n"
      ],
      "text/plain": [
       "<IPython.core.display.HTML object>"
      ]
     },
     "metadata": {},
     "output_type": "display_data"
    }
   ],
   "source": [
    "from IPython.display import display, HTML\n",
    "\n",
    "display(HTML(\"\"\"\n",
    "<div>\n",
    "    <img src=\"cucumber.png\" id=\"soundButton\" style=\"cursor:pointer; width:100px;\">\n",
    "    <audio id=\"clickSound\">\n",
    "        <source src=\"cucumber.wav\" type=\"audio/wav\">\n",
    "    </audio>\n",
    "</div>\n",
    "\n",
    "<script>\n",
    "    document.getElementById(\"soundButton\").onclick = function() {\n",
    "        var sound = document.getElementById(\"clickSound\");\n",
    "        sound.play();\n",
    "    };\n",
    "</script>\n",
    "\"\"\"))"
   ]
  },
  {
   "cell_type": "code",
   "execution_count": null,
   "id": "34b23c04-7ad2-4079-bc4c-9d3d5f2f5834",
   "metadata": {},
   "outputs": [],
   "source": []
  }
 ],
 "metadata": {
  "kernelspec": {
   "display_name": "Python 3 (ipykernel)",
   "language": "python",
   "name": "python3"
  },
  "language_info": {
   "codemirror_mode": {
    "name": "ipython",
    "version": 3
   },
   "file_extension": ".py",
   "mimetype": "text/x-python",
   "name": "python",
   "nbconvert_exporter": "python",
   "pygments_lexer": "ipython3",
   "version": "3.10.17"
  }
 },
 "nbformat": 4,
 "nbformat_minor": 5
}
